{
 "metadata": {
  "language_info": {
   "codemirror_mode": {
    "name": "ipython",
    "version": 3
   },
   "file_extension": ".py",
   "mimetype": "text/x-python",
   "name": "python",
   "nbconvert_exporter": "python",
   "pygments_lexer": "ipython3",
   "version": "3.8.5"
  },
  "orig_nbformat": 2,
  "kernelspec": {
   "name": "python385jvsc74a57bd0d355369c3a095d1d1bd47da253ce9e021c490d76f4054e1263b09d85296857ea",
   "display_name": "Python 3.8.5 64-bit ('base': conda)"
  }
 },
 "nbformat": 4,
 "nbformat_minor": 2,
 "cells": [
  {
   "cell_type": "code",
   "execution_count": 1,
   "metadata": {},
   "outputs": [],
   "source": [
    "import pandas as pd\n",
    "import csv\n",
    "import re\n",
    "import os"
   ]
  },
  {
   "cell_type": "code",
   "execution_count": null,
   "metadata": {},
   "outputs": [],
   "source": [
    "df_small=pd.read_csv('./dna/databases/small.csv')\n",
    "df_small.head()"
   ]
  },
  {
   "cell_type": "code",
   "execution_count": null,
   "metadata": {},
   "outputs": [],
   "source": [
    "df_large=pd.read_csv('./dna/databases/large.csv')\n",
    "df_large.head()"
   ]
  },
  {
   "cell_type": "code",
   "execution_count": 2,
   "metadata": {},
   "outputs": [],
   "source": [
    "def hallar_ADN(n: int):\n",
    "    secuencia_n=open('./dna/sequences/'+str(n)+'.txt')\n",
    "    with open('./dna/sequences/'+str(n)+'.txt','r') as secuencia_n:\n",
    "        for linea in secuencia_n:\n",
    "            linea\n",
    "    ADN=linea\n",
    "    return ADN"
   ]
  },
  {
   "cell_type": "code",
   "execution_count": 3,
   "metadata": {},
   "outputs": [],
   "source": [
    "def patron_small(n:int):\n",
    "    df_small=pd.read_csv('./dna/databases/small.csv')\n",
    "    while True:\n",
    "        if n>0 and n<5:\n",
    "            ADN=hallar_ADN(n)\n",
    "            p_1=re.findall('AGATC',ADN)\n",
    "            p_2=re.findall('AATG',ADN)\n",
    "            p_3=re.findall('TATC',ADN)\n",
    "            for x in df_small['AGATC'].unique():\n",
    "                for y in df_small['AATG'].unique():\n",
    "                    for z in df_small['TATC'].unique():\n",
    "                        if x==len(p_1) and y==len(p_2) and z==len(p_3):\n",
    "                            if x==2 and y==8 and z==3:\n",
    "                                return 'Alice'\n",
    "                            elif x==4 and y==1 and z==5:\n",
    "                                return 'Bob'\n",
    "                            elif x==3 and y==2 and z==5:\n",
    "                                return 'Charlie'\n",
    "            return 'No Match'"
   ]
  },
  {
   "cell_type": "code",
   "execution_count": 4,
   "metadata": {},
   "outputs": [],
   "source": [
    "def count(cont, cadena):\n",
    "    patron = rf'({cont})\\1*'\n",
    "    patron_general = re.compile(patron)\n",
    "    pareja = [pareja for pareja in patron_general.finditer(cadena)]\n",
    "    maximo = 0\n",
    "    for x in range(len(pareja)):\n",
    "        if pareja[x].group().count(cont) > maximo:\n",
    "            maximo = pareja[x].group().count(cont)\n",
    "    return maximo\n",
    "\n",
    "def patron_large(n:int):\n",
    "    while True:\n",
    "        if n>4 and n<21:    \n",
    "            ADN=hallar_ADN(n)\n",
    "            with open('./dna/databases/large.csv', 'r') as archivo_csv:\n",
    "                lector = csv.DictReader(archivo_csv)\n",
    "                diccionario = list(lector)\n",
    "            \n",
    "            AGATC = count(\"AGATC\", ADN)\n",
    "            TTTTTTCT = count(\"TTTTTTCT\", ADN)\n",
    "            TCTAG = count(\"TCTAG\", ADN)\n",
    "            AATG = count(\"AATG\", ADN)\n",
    "            GATA = count(\"GATA\", ADN)\n",
    "            TATC = count(\"TATC\", ADN)\n",
    "            GAAA = count(\"GAAA\", ADN)\n",
    "            TCTG = count(\"TCTG\", ADN)\n",
    "\n",
    "            for i in range(len(diccionario)):\n",
    "                if all([diccionario[i][\"AGATC\"] == str(AGATC), diccionario[i][\"TTTTTTCT\"] == str(TTTTTTCT), diccionario[i][\"TCTAG\"] == str(TCTAG), diccionario[i][\"AATG\"] == str(AATG), diccionario[i][\"GATA\"] == str(GATA), diccionario[i][\"TATC\"]== str(TATC), diccionario[i][\"GAAA\"] == str(GAAA), diccionario[i][\"TCTG\"] == str(TCTG)]):\n",
    "                    name = diccionario[i][\"name\"]\n",
    "                    break\n",
    "                else:\n",
    "                    name = \"No match\"\n",
    "            return name"
   ]
  },
  {
   "cell_type": "code",
   "execution_count": 11,
   "metadata": {
    "tags": []
   },
   "outputs": [
    {
     "output_type": "execute_result",
     "data": {
      "text/plain": [
       "'Severus'"
      ]
     },
     "metadata": {},
     "execution_count": 11
    }
   ],
   "source": [
    "def definir_patron():\n",
    "    n=int(input('Secuencia: '))\n",
    "    while True:\n",
    "        if n>0 and n<5:\n",
    "            return patron_small(n)\n",
    "        elif n >4 and n<21:\n",
    "            return patron_large(n)\n",
    "        else:\n",
    "            print('Secuencia no correcta')\n",
    "            n=int(input('Secuencia: '))\n",
    "definir_patron()"
   ]
  }
 ]
}