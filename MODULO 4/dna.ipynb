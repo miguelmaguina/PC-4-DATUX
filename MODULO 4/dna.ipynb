{
 "metadata": {
  "language_info": {
   "codemirror_mode": {
    "name": "ipython",
    "version": 3
   },
   "file_extension": ".py",
   "mimetype": "text/x-python",
   "name": "python",
   "nbconvert_exporter": "python",
   "pygments_lexer": "ipython3",
   "version": "3.8.5"
  },
  "orig_nbformat": 2,
  "kernelspec": {
   "name": "python385jvsc74a57bd0d355369c3a095d1d1bd47da253ce9e021c490d76f4054e1263b09d85296857ea",
   "display_name": "Python 3.8.5 64-bit ('base': conda)"
  }
 },
 "nbformat": 4,
 "nbformat_minor": 2,
 "cells": [
  {
   "cell_type": "code",
   "execution_count": null,
   "metadata": {},
   "outputs": [],
   "source": [
    "import pandas as pd\n",
    "import csv\n",
    "import re\n",
    "import os\n",
    "import sys"
   ]
  },
  {
   "cell_type": "code",
   "execution_count": null,
   "metadata": {},
   "outputs": [],
   "source": [
    "df_small=pd.read_csv('./dna/databases/small.csv')\n",
    "df_small.head()"
   ]
  },
  {
   "cell_type": "code",
   "execution_count": 13,
   "metadata": {},
   "outputs": [],
   "source": [
    "def hallar_ADN():\n",
    "    n=int(input('Secuencia: '))\n",
    "    secuencia_n=open('./dna/sequences/'+str(n)+'.txt')\n",
    "    with open('./dna/sequences/'+str(n)+'.txt','r') as secuencia_n:\n",
    "        for linea in secuencia_n:\n",
    "            linea\n",
    "    ADN=linea\n",
    "    return ADN\n",
    "#hallar_ADN()"
   ]
  },
  {
   "cell_type": "code",
   "execution_count": null,
   "metadata": {},
   "outputs": [],
   "source": [
    "def patron_small():    \n",
    "    ADN=hallar_ADN()\n",
    "    p_1=re.findall('AGATC',ADN)\n",
    "    p_2=re.findall('AATG',ADN)\n",
    "    p_3=re.findall('TATC',ADN)\n",
    "    for x in df_small['AGATC'].unique():\n",
    "        for y in df_small['AATG'].unique():\n",
    "            for z in df_small['TATC'].unique():\n",
    "                if x==len(p_1) and y==len(p_2) and z==len(p_3):\n",
    "                    if x==2 and y==8 and z==3:\n",
    "                        return 'Alice'\n",
    "                    elif x==4 and y==1 and z==5:\n",
    "                        return 'Bob'\n",
    "                    elif x==3 and y==2 and z==5:\n",
    "                        return 'Charlie'\n",
    "    return 'No Match'\n",
    "patron_small()"
   ]
  },
  {
   "cell_type": "code",
   "execution_count": 11,
   "metadata": {},
   "outputs": [
    {
     "output_type": "execute_result",
     "data": {
      "text/plain": [
       "     name  AGATC  TTTTTTCT  AATG  TCTAG  GATA  TATC  GAAA  TCTG\n",
       "0   Albus     15        49    38      5    14    44    14    12\n",
       "1  Cedric     31        21    41     28    30     9    36    44\n",
       "2   Draco      9        13     8     26    15    25    41    39\n",
       "3    Fred     37        40    10      6     5    10    28     8\n",
       "4   Ginny     37        47    10     23     5    48    28    23"
      ],
      "text/html": "<div>\n<style scoped>\n    .dataframe tbody tr th:only-of-type {\n        vertical-align: middle;\n    }\n\n    .dataframe tbody tr th {\n        vertical-align: top;\n    }\n\n    .dataframe thead th {\n        text-align: right;\n    }\n</style>\n<table border=\"1\" class=\"dataframe\">\n  <thead>\n    <tr style=\"text-align: right;\">\n      <th></th>\n      <th>name</th>\n      <th>AGATC</th>\n      <th>TTTTTTCT</th>\n      <th>AATG</th>\n      <th>TCTAG</th>\n      <th>GATA</th>\n      <th>TATC</th>\n      <th>GAAA</th>\n      <th>TCTG</th>\n    </tr>\n  </thead>\n  <tbody>\n    <tr>\n      <th>0</th>\n      <td>Albus</td>\n      <td>15</td>\n      <td>49</td>\n      <td>38</td>\n      <td>5</td>\n      <td>14</td>\n      <td>44</td>\n      <td>14</td>\n      <td>12</td>\n    </tr>\n    <tr>\n      <th>1</th>\n      <td>Cedric</td>\n      <td>31</td>\n      <td>21</td>\n      <td>41</td>\n      <td>28</td>\n      <td>30</td>\n      <td>9</td>\n      <td>36</td>\n      <td>44</td>\n    </tr>\n    <tr>\n      <th>2</th>\n      <td>Draco</td>\n      <td>9</td>\n      <td>13</td>\n      <td>8</td>\n      <td>26</td>\n      <td>15</td>\n      <td>25</td>\n      <td>41</td>\n      <td>39</td>\n    </tr>\n    <tr>\n      <th>3</th>\n      <td>Fred</td>\n      <td>37</td>\n      <td>40</td>\n      <td>10</td>\n      <td>6</td>\n      <td>5</td>\n      <td>10</td>\n      <td>28</td>\n      <td>8</td>\n    </tr>\n    <tr>\n      <th>4</th>\n      <td>Ginny</td>\n      <td>37</td>\n      <td>47</td>\n      <td>10</td>\n      <td>23</td>\n      <td>5</td>\n      <td>48</td>\n      <td>28</td>\n      <td>23</td>\n    </tr>\n  </tbody>\n</table>\n</div>"
     },
     "metadata": {},
     "execution_count": 11
    }
   ],
   "source": [
    "df_large=pd.read_csv('./dna/databases/large.csv')\n",
    "df_large.head()"
   ]
  },
  {
   "cell_type": "code",
   "execution_count": 12,
   "metadata": {},
   "outputs": [
    {
     "output_type": "execute_result",
     "data": {
      "text/plain": [
       "'Harry'"
      ]
     },
     "metadata": {},
     "execution_count": 12
    }
   ],
   "source": [
    "def count(cont, cadena):\n",
    "    patron = rf'({cont})\\1*'\n",
    "    patron_general = re.compile(patron)\n",
    "    pareja = [pareja for pareja in patron_general.finditer(cadena)]\n",
    "    maximo = 0\n",
    "    for x in range(len(pareja)):\n",
    "        if pareja[x].group().count(cont) > maximo:\n",
    "            maximo = pareja[x].group().count(cont)\n",
    "    return maximo\n",
    "\n",
    "def patron_large():    \n",
    "    ADN=hallar_ADN()\n",
    "    with open('./dna/databases/large.csv', 'r') as archivo_csv:\n",
    "        lector = csv.DictReader(archivo_csv)\n",
    "        diccionario = list(lector)\n",
    "    \n",
    "    AGATC = count(\"AGATC\", ADN)\n",
    "    TTTTTTCT = count(\"TTTTTTCT\", ADN)\n",
    "    TCTAG = count(\"TCTAG\", ADN)\n",
    "    AATG = count(\"AATG\", ADN)\n",
    "    GATA = count(\"GATA\", ADN)\n",
    "    TATC = count(\"TATC\", ADN)\n",
    "    GAAA = count(\"GAAA\", ADN)\n",
    "    TCTG = count(\"TCTG\", ADN)\n",
    "\n",
    "    for i in range(len(diccionario)):\n",
    "        if all([diccionario[i][\"AGATC\"] == str(AGATC), diccionario[i][\"TTTTTTCT\"] == str(TTTTTTCT), diccionario[i][\"TCTAG\"] == str(TCTAG), diccionario[i][\"AATG\"] == str(AATG), diccionario[i][\"GATA\"] == str(GATA), diccionario[i][\"TATC\"]== str(TATC), diccionario[i][\"GAAA\"] == str(GAAA), diccionario[i][\"TCTG\"] == str(TCTG)]):\n",
    "            name = diccionario[i][\"name\"]\n",
    "            break\n",
    "        else:\n",
    "            name = \"No match\"\n",
    "    return name\n",
    "patron_large()"
   ]
  }
 ]
}