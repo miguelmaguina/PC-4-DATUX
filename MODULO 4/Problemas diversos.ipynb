{
 "metadata": {
  "language_info": {
   "codemirror_mode": {
    "name": "ipython",
    "version": 3
   },
   "file_extension": ".py",
   "mimetype": "text/x-python",
   "name": "python",
   "nbconvert_exporter": "python",
   "pygments_lexer": "ipython3",
   "version": "3.8.5"
  },
  "orig_nbformat": 2,
  "kernelspec": {
   "name": "python385jvsc74a57bd0d355369c3a095d1d1bd47da253ce9e021c490d76f4054e1263b09d85296857ea",
   "display_name": "Python 3.8.5 64-bit ('base': conda)"
  }
 },
 "nbformat": 4,
 "nbformat_minor": 2,
 "cells": [
  {
   "cell_type": "code",
   "execution_count": 12,
   "metadata": {},
   "outputs": [
    {
     "output_type": "execute_result",
     "data": {
      "text/plain": [
       "'d:\\\\UNIVERSIDAD\\\\CICLO III\\\\Matemática Discreta -Intro\\\\CLASES PYTHON DATUX\\\\PC4 - MIGUEL MAGUIÑA\\\\MODULO 4'"
      ]
     },
     "metadata": {},
     "execution_count": 12
    }
   ],
   "source": [
    "import os\n",
    "os.getcwd()"
   ]
  },
  {
   "cell_type": "code",
   "execution_count": 5,
   "metadata": {},
   "outputs": [],
   "source": [
    "#FICHEROS\n",
    "#PROBLEMA 1\n",
    "n = int(input('Para generar una tabla introduce un número entero entre 1 y 10: '))\n",
    "archivo = 'tabla-' + str(n) + '.txt'\n",
    "f = open(archivo, 'w')\n",
    "f.write('Tabla del '+str(n) + '\\n')\n",
    "for i in range(1, 11):\n",
    "    f.write(str(n) + ' X ' + str(i) + ' = ' + str(n * i) + '\\n')\n",
    "f.close()"
   ]
  },
  {
   "cell_type": "code",
   "execution_count": 9,
   "metadata": {},
   "outputs": [
    {
     "output_type": "stream",
     "name": "stdout",
     "text": [
      "Tabla del 2\n2 X 1 = 2\n2 X 2 = 4\n2 X 3 = 6\n2 X 4 = 8\n2 X 5 = 10\n2 X 6 = 12\n2 X 7 = 14\n2 X 8 = 16\n2 X 9 = 18\n2 X 10 = 20\n\n"
     ]
    }
   ],
   "source": [
    "#PROBLEMA 2\n",
    "buscar=int(input('Qué tabla busca?(Ingrese numero del 1 al 10): '))\n",
    "archivo_buscar='tabla-'+str(buscar)+'.txt'\n",
    "try:\n",
    "    f=open(archivo_buscar,'r')\n",
    "except FileNotFoundError:\n",
    "    print('No existe el archivo con la tabla del ',buscar)\n",
    "else:\n",
    "    print(f.read())"
   ]
  },
  {
   "cell_type": "code",
   "execution_count": 13,
   "metadata": {},
   "outputs": [
    {
     "output_type": "stream",
     "name": "stdout",
     "text": [
      "2 X 8 = 16\n\n"
     ]
    }
   ],
   "source": [
    "#PROBLEMA 3\n",
    "n=int(input('Ingresa un numero del 1 al 10: '))\n",
    "m=int(input('Ingrese la línea que desea: '))\n",
    "archivo_buscar='tabla-'+str(n)+'.txt'\n",
    "try:\n",
    "    f=open(archivo_buscar,'r')\n",
    "except FileNotFoundError:\n",
    "    print('No existe el archivo con la tabla del ',n)\n",
    "else:\n",
    "    lineas=f.readlines()\n",
    "    print(lineas[m])\n"
   ]
  },
  {
   "cell_type": "code",
   "execution_count": 1,
   "metadata": {},
   "outputs": [
    {
     "output_type": "execute_result",
     "data": {
      "text/plain": [
       "['@robot9!', '@robot4&', '@robot9$', '@robot7%']"
      ]
     },
     "metadata": {},
     "execution_count": 1
    }
   ],
   "source": [
    "#EXPRESIONES REGULARES\n",
    "#PROBLEMA 1:\n",
    "import re\n",
    "s = '@robot9! @robot4& I have a good feeling that the show isgoing to be amazing! @robot9$ @robot7%'\n",
    "patron=r\"@robot\\d\\D\"\n",
    "re.findall(patron,s)"
   ]
  },
  {
   "cell_type": "code",
   "execution_count": 2,
   "metadata": {},
   "outputs": [
    {
     "output_type": "stream",
     "name": "stdout",
     "text": [
      "['User_mentions:2']\n['likes: 9']\n['number of retweets: 7']\n"
     ]
    }
   ],
   "source": [
    "#PROBLEMA 2:\n",
    "s = \"Unfortunately one of those moments wasn't a giant squid monster. User_mentions:2, likes: 9, number of retweets: 7\"\n",
    "menciones=r'User_mentions:\\d'\n",
    "me_gusta=r'likes:\\s\\d'\n",
    "tweets=r'number\\sof\\sretweets:\\s\\d'\n",
    "print(re.findall(menciones,s))\n",
    "print(re.findall(me_gusta,s))\n",
    "print(re.findall(tweets,s))"
   ]
  },
  {
   "cell_type": "code",
   "execution_count": 22,
   "metadata": {},
   "outputs": [
    {
     "output_type": "stream",
     "name": "stdout",
     "text": [
      "AIshadowhunters.txt aaaaand back to my literature review. At least i have a friendly cup of coffee to keep me company\n['AIshadowhunters.txt']\nouMYTAXES.txt I am worried that I won't get my $900 even though I paid tax last year\n['ouMYTAXES.txt']\n"
     ]
    }
   ],
   "source": [
    "#PROBLEMA 3\n",
    "from modulo import datos\n",
    "path='./re/short_tweets.csv'\n",
    "analisis_sentimientos = datos.read_pandas(path,780,782)\n",
    "regex = r\"\\w\\w\\w+.txt\"  # complete aqui\n",
    "for tweet in analisis_sentimientos:\n",
    "    print(tweet)    \n",
    "    # Encuentre todos los casos\n",
    "    print(re.findall(regex, tweet))\n"
   ]
  },
  {
   "cell_type": "code",
   "execution_count": 25,
   "metadata": {},
   "outputs": [
    {
     "output_type": "stream",
     "name": "stdout",
     "text": [
      "The email n.john.smith@gmail.com is a valid email\nThe email 87victory@hotmail.com is a valid email\nThe email !#mary-=@msca.net is invalid\n"
     ]
    }
   ],
   "source": [
    "#PROBLEMA 4:\n",
    "# Escriba una expresión regular para validar un correo\n",
    "regex = r\"\\w+.*\\w@\\w+\\.com\"\n",
    "emails = ['n.john.smith@gmail.com', '87victory@hotmail.com', '!#mary-=@msca.net']\n",
    "for example in emails:\n",
    "    if re.match(regex, example):\n",
    "        print(\"The email {email_example} is a valid email\".format(email_example=example))\n",
    "    else:\n",
    "        print(\"The email {email_example} is invalid\".format(email_example=example))   "
   ]
  }
 ]
}