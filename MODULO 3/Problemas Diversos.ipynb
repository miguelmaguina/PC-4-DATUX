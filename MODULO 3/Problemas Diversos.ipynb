{
 "metadata": {
  "language_info": {
   "codemirror_mode": {
    "name": "ipython",
    "version": 3
   },
   "file_extension": ".py",
   "mimetype": "text/x-python",
   "name": "python",
   "nbconvert_exporter": "python",
   "pygments_lexer": "ipython3",
   "version": "3.8.5"
  },
  "orig_nbformat": 2,
  "kernelspec": {
   "name": "python385jvsc74a57bd0d355369c3a095d1d1bd47da253ce9e021c490d76f4054e1263b09d85296857ea",
   "display_name": "Python 3.8.5 64-bit ('base': conda)"
  },
  "metadata": {
   "interpreter": {
    "hash": "00d0da2beda986aec30816e4cd7fb4d22aa303e0c7be1e29f09be47940c81e46"
   }
  }
 },
 "nbformat": 4,
 "nbformat_minor": 2,
 "cells": [
  {
   "cell_type": "code",
   "execution_count": 126,
   "metadata": {},
   "outputs": [
    {
     "output_type": "execute_result",
     "data": {
      "text/plain": [
       "[4, 0, 0, 3, 6, 0, 0, 0, 0, 0, 0, 0, 0, 0, 1, 4]"
      ]
     },
     "metadata": {},
     "execution_count": 126
    }
   ],
   "source": [
    "def generar_tarjeta():\n",
    "    tarjeta=[]\n",
    "    numeros = input('Number: ')\n",
    "    for numero in numeros:\n",
    "        tarjeta.append(int(numero))\n",
    "    return tarjeta\n",
    "tarjeta=generar_tarjeta()\n",
    "tarjeta"
   ]
  },
  {
   "cell_type": "code",
   "execution_count": 127,
   "metadata": {},
   "outputs": [
    {
     "output_type": "execute_result",
     "data": {
      "text/plain": [
       "'VISA\\n'"
      ]
     },
     "metadata": {},
     "execution_count": 127
    }
   ],
   "source": [
    "\n",
    "\n",
    "def identificar_tarjeta(tarjeta):\n",
    "    if tarjeta[0:2]==[3,4] or tarjeta[0:2]==[3,7]:\n",
    "        return 'AMEX\\n'\n",
    "    elif tarjeta[0:2]==[5,1] or tarjeta[0:2]==[5,2] or tarjeta[0:2]==[5,3] or tarjeta[0:2]==[5,4] or tarjeta[0:2]==[5,5]:\n",
    "        return 'MasterCard'\n",
    "    elif tarjeta[0]==4:\n",
    "        return 'VISA\\n'\n",
    "    else:\n",
    "        return 'INVALID\\n'\n",
    "\n",
    "identificar_tarjeta(tarjeta)"
   ]
  },
  {
   "cell_type": "code",
   "execution_count": 128,
   "metadata": {},
   "outputs": [
    {
     "output_type": "execute_result",
     "data": {
      "text/plain": [
       "20"
      ]
     },
     "metadata": {},
     "execution_count": 128
    }
   ],
   "source": [
    "tarjeta=tarjeta[::-1]\n",
    "def algoritmo_luhn(tarjeta):\n",
    "    suma1=0\n",
    "    suma2=0\n",
    "    for index, valor in enumerate(tarjeta):\n",
    "        if index%2==1:\n",
    "            valor=valor*2\n",
    "            if valor>=10:\n",
    "                valor=valor%10\n",
    "                suma1=suma1+valor-1\n",
    "            suma1=suma1+valor\n",
    "        elif index%2==0:\n",
    "            if valor>=10:\n",
    "                valor=valor%10\n",
    "                suma2=suma2+valor-1\n",
    "            suma2=suma2+valor\n",
    "\n",
    "    return suma1+suma2\n",
    "            \n",
    "algoritmo_luhn(tarjeta)"
   ]
  }
 ]
}