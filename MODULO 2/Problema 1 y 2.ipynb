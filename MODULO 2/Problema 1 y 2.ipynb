{
 "metadata": {
  "language_info": {
   "codemirror_mode": {
    "name": "ipython",
    "version": 3
   },
   "file_extension": ".py",
   "mimetype": "text/x-python",
   "name": "python",
   "nbconvert_exporter": "python",
   "pygments_lexer": "ipython3",
   "version": "3.8.5"
  },
  "orig_nbformat": 2,
  "kernelspec": {
   "name": "python385jvsc74a57bd0d355369c3a095d1d1bd47da253ce9e021c490d76f4054e1263b09d85296857ea",
   "display_name": "Python 3.8.5 64-bit ('base': conda)"
  }
 },
 "nbformat": 4,
 "nbformat_minor": 2,
 "cells": [
  {
   "cell_type": "code",
   "execution_count": null,
   "metadata": {},
   "outputs": [],
   "source": [
    "#PROBLEMA 1\n",
    "altura=input(\"Ingrese la altura: \")\n",
    "while True:\n",
    "    try:\n",
    "        altura=int(altura)\n",
    "        if altura>0 and altura<9: \n",
    "            for i in range(altura+1):\n",
    "                espacios=altura-i\n",
    "                print(\" \"*espacios+\"#\"*i)\n",
    "            break\n",
    "        else:\n",
    "            altura=int(input(\"Ingrese la altura entre 1 y 8: \"))     \n",
    "    except:\n",
    "        altura=input(\"Ingrese una altura correcta: \")"
   ]
  },
  {
   "cell_type": "code",
   "execution_count": 1,
   "metadata": {},
   "outputs": [
    {
     "output_type": "stream",
     "name": "stdout",
     "text": [
      "ciphertext: IFMMP\n"
     ]
    }
   ],
   "source": [
    "#PROBLEMA 2\n",
    "def validar_llave(clave):\n",
    "    while True:\n",
    "        if int(clave)>=0:\n",
    "            return int(clave)\n",
    "        else:\n",
    "            print('Clave incorrecta')\n",
    "            clave=input('Key: ')\n",
    "\n",
    "clave= validar_llave(input('Key: '))\n",
    "no_cifrado = input('Plaintext: ')\n",
    "\n",
    "cifrado=[]\n",
    "for letra in no_cifrado:\n",
    "    if letra == letra.upper():\n",
    "        abecedario = \"ABCDEFGHIJKLMNOPQRSTUVWXYZ\"\n",
    "    else:\n",
    "        abecedario = \"abcdefghijklmnopqrstuvwxyz\"\n",
    "    if letra in abecedario:\n",
    "        cifrado.append(abecedario[(abecedario.index(letra)+clave) % len(abecedario)])\n",
    "    if letra==\" \":\n",
    "        cifrado.append(\" \")\n",
    "    if letra==\",\":\n",
    "        cifrado.append(\",\")\n",
    "\n",
    "cifrado=\"\".join(cifrado)\n",
    "\n",
    "print(f'ciphertext: {cifrado}')\n",
    "\n"
   ]
  },
  {
   "cell_type": "code",
   "execution_count": 2,
   "metadata": {},
   "outputs": [
    {
     "output_type": "stream",
     "name": "stdout",
     "text": [
      "ciphertext: uryyb, jbeyq\n"
     ]
    }
   ],
   "source": [
    "def validar_llave(clave):\n",
    "    while True:\n",
    "        if int(clave)>=0:\n",
    "            return int(clave)\n",
    "        else:\n",
    "            print('Clave incorrecta')\n",
    "            clave=input('Key: ')\n",
    "\n",
    "clave= validar_llave(input('Key: '))\n",
    "no_cifrado = input('Plaintext: ')\n",
    "\n",
    "cifrado=[]\n",
    "for letra in no_cifrado:\n",
    "    if letra == letra.upper():\n",
    "        abecedario = \"ABCDEFGHIJKLMNOPQRSTUVWXYZ\"\n",
    "    else:\n",
    "        abecedario = \"abcdefghijklmnopqrstuvwxyz\"\n",
    "    if letra in abecedario:\n",
    "        cifrado.append(abecedario[(abecedario.index(letra)+clave) % len(abecedario)])\n",
    "    if letra==\" \":\n",
    "        cifrado.append(\" \")\n",
    "    if letra==\",\":\n",
    "        cifrado.append(\",\")\n",
    "\n",
    "cifrado=\"\".join(cifrado)\n",
    "\n",
    "print(f'ciphertext: {cifrado}')"
   ]
  },
  {
   "cell_type": "code",
   "execution_count": 3,
   "metadata": {},
   "outputs": [
    {
     "output_type": "stream",
     "name": "stdout",
     "text": [
      "ciphertext: or fher gb qevax lbhe Binygvar\n"
     ]
    }
   ],
   "source": [
    "def validar_llave(clave):\n",
    "    while True:\n",
    "        if int(clave)>=0:\n",
    "            return int(clave)\n",
    "        else:\n",
    "            print('Clave incorrecta')\n",
    "            clave=input('Key: ')\n",
    "\n",
    "clave= validar_llave(input('Key: '))\n",
    "no_cifrado = input('Plaintext: ')\n",
    "\n",
    "cifrado=[]\n",
    "for letra in no_cifrado:\n",
    "    if letra == letra.upper():\n",
    "        abecedario = \"ABCDEFGHIJKLMNOPQRSTUVWXYZ\"\n",
    "    else:\n",
    "        abecedario = \"abcdefghijklmnopqrstuvwxyz\"\n",
    "    if letra in abecedario:\n",
    "        cifrado.append(abecedario[(abecedario.index(letra)+clave) % len(abecedario)])\n",
    "    if letra==\" \":\n",
    "        cifrado.append(\" \")\n",
    "    if letra==\",\":\n",
    "        cifrado.append(\",\")\n",
    "\n",
    "cifrado=\"\".join(cifrado)\n",
    "\n",
    "print(f'ciphertext: {cifrado}')"
   ]
  }
 ]
}