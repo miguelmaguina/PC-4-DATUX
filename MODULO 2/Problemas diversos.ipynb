{
 "metadata": {
  "language_info": {
   "codemirror_mode": {
    "name": "ipython",
    "version": 3
   },
   "file_extension": ".py",
   "mimetype": "text/x-python",
   "name": "python",
   "nbconvert_exporter": "python",
   "pygments_lexer": "ipython3",
   "version": "3.8.5"
  },
  "orig_nbformat": 2,
  "kernelspec": {
   "name": "python385jvsc74a57bd0d355369c3a095d1d1bd47da253ce9e021c490d76f4054e1263b09d85296857ea",
   "display_name": "Python 3.8.5 64-bit ('base': conda)"
  }
 },
 "nbformat": 4,
 "nbformat_minor": 2,
 "cells": [
  {
   "cell_type": "code",
   "execution_count": 56,
   "metadata": {},
   "outputs": [
    {
     "output_type": "execute_result",
     "data": {
      "text/plain": [
       "[{'Nombre': 'Juan Ramirez',\n",
       "  'Nota 1': 1.0,\n",
       "  'Nota 2': 2.0,\n",
       "  'Nota 3': 3.0,\n",
       "  'Promedio': 2.0,\n",
       "  'Estatus': 'Desaprobado'},\n",
       " {'Nombre': 'Juan Maguiña',\n",
       "  'Nota 1': 4.0,\n",
       "  'Nota 2': 5.0,\n",
       "  'Nota 3': 6.0,\n",
       "  'Promedio': 5.0,\n",
       "  'Estatus': 'Aprobado'},\n",
       " {'Nombre': 'Juan Solis',\n",
       "  'Nota 1': 4.0,\n",
       "  'Nota 2': 5.0,\n",
       "  'Nota 3': 6.0,\n",
       "  'Promedio': 5.0,\n",
       "  'Estatus': 'Aprobado'},\n",
       " {'Nombre': 'Miguel Maguiña',\n",
       "  'Nota 1': 5.0,\n",
       "  'Nota 2': 6.0,\n",
       "  'Nota 3': 7.0,\n",
       "  'Promedio': 6.0,\n",
       "  'Estatus': 'Aprobado'}]"
      ]
     },
     "metadata": {},
     "execution_count": 56
    }
   ],
   "source": [
    "#1\n",
    "def validar_nota(nota:float):\n",
    "    while True:\n",
    "        if nota>=0 and nota<11:\n",
    "            nota=nota\n",
    "            break\n",
    "        else:\n",
    "            nota=float(input('Ingrese una nota entre 0 y 10: '))\n",
    "    return nota      \n",
    "\n",
    "def lista_alumnos(num_alumnos):\n",
    "    alumnos=[]\n",
    "    for n in range(num_alumnos):\n",
    "        alumno_n={}\n",
    "        alumno_n['Nombre']=input('Ingrese el nombre completo: ')\n",
    "        alumno_n['Nota 1']=validar_nota(float(input('Ingrese nota 1: ')))\n",
    "        alumno_n['Nota 2']=validar_nota(float(input('Ingrese nota 2: ')))\n",
    "        alumno_n['Nota 3']=validar_nota(float(input('Ingrese nota 3: ')))\n",
    "        alumno_n['Promedio']= round((alumno_n['Nota 1']+alumno_n['Nota 2']+alumno_n['Nota 3'])/3,2)\n",
    "        alumno_n['Estatus']= aprobados(alumno_n['Promedio'])\n",
    "        alumnos.append(alumno_n)\n",
    "    return alumnos\n",
    "#2\n",
    "def aprobados(nota):\n",
    "    if nota>=4:\n",
    "        estatus='Aprobado'\n",
    "    else:\n",
    "        estatus='Desaprobado'\n",
    "    return estatus   \n",
    "\n",
    "num_alumnos=int(input('Ingrese la cantidad de alumnos: '))\n",
    "\n",
    "lista=lista_alumnos(num_alumnos)\n",
    "lista"
   ]
  },
  {
   "cell_type": "code",
   "execution_count": 57,
   "metadata": {},
   "outputs": [
    {
     "output_type": "execute_result",
     "data": {
      "text/plain": [
       "1.9"
      ]
     },
     "metadata": {},
     "execution_count": 57
    }
   ],
   "source": [
    "#3\n",
    "def promedio_curso(lista):\n",
    "    prom_tot=0\n",
    "    for indice,nombre in enumerate(lista):\n",
    "        for key, value in lista[indice].items():\n",
    "            if key == 'Promedio':\n",
    "                prom_tot=(prom_tot+value)/num_alumnos\n",
    "    return round(prom_tot,2) \n",
    "            \n",
    "promedio_curso(lista)   "
   ]
  },
  {
   "cell_type": "code",
   "execution_count": 58,
   "metadata": {},
   "outputs": [
    {
     "output_type": "stream",
     "name": "stdout",
     "text": [
      "El que obtuvo el más alto promedio fue: Miguel Maguiña\nEl que obtuvo el más bajo promedio fue: Juan Ramirez\n"
     ]
    }
   ],
   "source": [
    "#4\n",
    "def escala_promedio(lista):\n",
    "    maximo_p= max(lista, key=lambda d: d['Promedio'])\n",
    "    minimo_p=min(lista, key=lambda d: d['Promedio'])\n",
    "    print('El que obtuvo el más alto promedio fue: {}'.format(maximo_p['Nombre'])) \n",
    "    print('El que obtuvo el más bajo promedio fue: {}'.format(minimo_p['Nombre']))     \n",
    "\n",
    "escala_promedio(lista)"
   ]
  },
  {
   "cell_type": "code",
   "execution_count": 88,
   "metadata": {},
   "outputs": [
    {
     "output_type": "execute_result",
     "data": {
      "text/plain": [
       "['Juan Ramirez', 2.0, 'Juan Maguiña', 5.0, 'Juan Solis', 5.0]"
      ]
     },
     "metadata": {},
     "execution_count": 88
    }
   ],
   "source": [
    "#5\n",
    "def buscar_alumno(lista):\n",
    "    name=input('Ingrese el nombre del alumno: ')\n",
    "    parcial=[]\n",
    "    for indice,nombre in enumerate(lista):\n",
    "        for key, value in lista[indice].items():\n",
    "            if key == 'Nombre':\n",
    "                if name in value:\n",
    "                    parcial.append(value)\n",
    "                    parcial.append(lista[indice]['Promedio'])   \n",
    "    return parcial\n",
    "\n",
    "buscar_alumno(lista)\n"
   ]
  }
 ]
}