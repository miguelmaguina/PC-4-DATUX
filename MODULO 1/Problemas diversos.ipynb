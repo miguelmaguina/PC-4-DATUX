{
 "metadata": {
  "language_info": {
   "codemirror_mode": {
    "name": "ipython",
    "version": 3
   },
   "file_extension": ".py",
   "mimetype": "text/x-python",
   "name": "python",
   "nbconvert_exporter": "python",
   "pygments_lexer": "ipython3",
   "version": "3.8.5"
  },
  "orig_nbformat": 2,
  "kernelspec": {
   "name": "python385jvsc74a57bd0d355369c3a095d1d1bd47da253ce9e021c490d76f4054e1263b09d85296857ea",
   "display_name": "Python 3.8.5 64-bit ('base': conda)"
  }
 },
 "nbformat": 4,
 "nbformat_minor": 2,
 "cells": [
  {
   "cell_type": "code",
   "execution_count": 1,
   "metadata": {},
   "outputs": [
    {
     "output_type": "stream",
     "name": "stdout",
     "text": [
      "Para el primer 0 el monto será 1040.0\nPara el primer 1 el monto será 1081.6\nPara el primer 2 el monto será 1124.86\nPara el primer 3 el monto será 1169.86\n"
     ]
    }
   ],
   "source": [
    "cant_dinero=float(input(\"Ingrese la cantidad de dinero que quiera depositar:\"))\n",
    "for i in range(4):\n",
    "    cant_dinero= cant_dinero+ cant_dinero*0.04\n",
    "    print(f\"Para el primer {i} el monto será {round(cant_dinero,2)}\")\n",
    "    "
   ]
  },
  {
   "cell_type": "code",
   "execution_count": 3,
   "metadata": {},
   "outputs": [
    {
     "output_type": "stream",
     "name": "stdout",
     "text": [
      "El valor del coeficiente de segundo grado debe ser diferente de 0\n"
     ]
    }
   ],
   "source": [
    "a=int(input(\"Ingrese el coeficiente de segundo grado: \"))\n",
    "b=int(input(\"Ingrese el coeficiente de primer grado: \"))\n",
    "c=int(input(\"Ingres el coeficiente independientes:\"))\n",
    "if (a!=0):\n",
    "    discrim=b**2-4*a*c\n",
    "    x1=(-b+(discrim)**(1/2))/(2*a)\n",
    "    x2=(-b+(discrim)**(1/2))/(2*a)\n",
    "    if (discrim>0):\n",
    "        print(f\"Las raices son reales:{x1} y {x2}\")\n",
    "    elif (discrim==0):\n",
    "        print(f\"Las raices son reales e iguales:{x1}\")\n",
    "    elif (discrim<0):\n",
    "        print(\"La ecuación no presenta solución real\")\n",
    "else:\n",
    "    print(\"El valor del coeficiente de segundo grado debe ser diferente de 0\")"
   ]
  },
  {
   "cell_type": "code",
   "execution_count": null,
   "metadata": {},
   "outputs": [],
   "source": []
  }
 ]
}