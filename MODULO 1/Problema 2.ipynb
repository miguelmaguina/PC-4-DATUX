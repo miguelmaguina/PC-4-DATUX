{
 "metadata": {
  "language_info": {
   "codemirror_mode": {
    "name": "ipython",
    "version": 3
   },
   "file_extension": ".py",
   "mimetype": "text/x-python",
   "name": "python",
   "nbconvert_exporter": "python",
   "pygments_lexer": "ipython3",
   "version": "3.8.5"
  },
  "orig_nbformat": 2,
  "kernelspec": {
   "name": "python385jvsc74a57bd0d355369c3a095d1d1bd47da253ce9e021c490d76f4054e1263b09d85296857ea",
   "display_name": "Python 3.8.5 64-bit ('base': conda)"
  }
 },
 "nbformat": 4,
 "nbformat_minor": 2,
 "cells": [
  {
   "cell_type": "code",
   "execution_count": 22,
   "metadata": {},
   "outputs": [
    {
     "output_type": "execute_result",
     "data": {
      "text/plain": [
       "'FOLLE'"
      ]
     },
     "metadata": {},
     "execution_count": 22
    }
   ],
   "source": [
    "#EJEMPLO 1:\n",
    "abecedario='ABCDEFGHIJKLMNOPQRSTUVWXYZ'\n",
    "clave='NQXPOMAFTRHLZGECYJIUWSKDVB'\n",
    "plaintext='HELLO'\n",
    "ciphertext=[]\n",
    "for caract in plaintext:\n",
    "    for index1,letra in enumerate(abecedario):\n",
    "        if caract==letra:\n",
    "            ciphertext.append(clave[index1])\n",
    "ciphertext=\"\".join(ciphertext)\n",
    "ciphertext"
   ]
  },
  {
   "cell_type": "code",
   "execution_count": 48,
   "metadata": {},
   "outputs": [
    {
     "output_type": "stream",
     "name": "stdout",
     "text": [
      "Ciphertext: jrssb, ybwsp\n"
     ]
    }
   ],
   "source": [
    "#EJEMPLO 2:\n",
    "abecedario='ABCDEFGHIJKLMNOPQRSTUVWXYZ'\n",
    "clave='VcHpRzGjNtLsKfBdQwAxEuYmOi'\n",
    "if len(clave)==26:\n",
    "    plaintext='hello, world'\n",
    "    if clave==clave.lower():\n",
    "        clave=clave.upper()\n",
    "        if plaintext==plaintext.lower():\n",
    "            plaintext=plaintext.upper()\n",
    "            ciphertext=[]\n",
    "            plaintext=plaintext.upper()\n",
    "            for caract in plaintext:\n",
    "                for index1,letra in enumerate(abecedario):\n",
    "                    if caract==letra:\n",
    "                        ciphertext.append(clave[index1])\n",
    "                if caract==\" \":\n",
    "                    ciphertext.append(\" \")\n",
    "                elif caract==\",\":\n",
    "                    ciphertext.append(\",\")\n",
    "            ciphertext=\"\".join(ciphertext).lower()\n",
    "            print(f'Ciphertext: {ciphertext}')\n",
    "        else:\n",
    "            print(f'Ciphertext: {ciphertext}')\n",
    "    else:\n",
    "        clave=clave.upper()\n",
    "        if plaintext==plaintext.lower():\n",
    "            plaintext=plaintext.upper()\n",
    "            ciphertext=[]\n",
    "            plaintext=plaintext.upper()\n",
    "            for caract in plaintext:\n",
    "                for index1,letra in enumerate(abecedario):\n",
    "                    if caract==letra:\n",
    "                        ciphertext.append(clave[index1])\n",
    "                if caract==\" \":\n",
    "                    ciphertext.append(\" \")\n",
    "                elif caract==\",\":\n",
    "                    ciphertext.append(\",\")\n",
    "            ciphertext=\"\".join(ciphertext).lower()\n",
    "            print(f'Ciphertext: {ciphertext}')\n",
    "        else:\n",
    "            print(f'Ciphertext: {ciphertext}')\n",
    "else:\n",
    "    print('Key must contain 26 characters.')"
   ]
  },
  {
   "cell_type": "code",
   "execution_count": null,
   "metadata": {},
   "outputs": [],
   "source": []
  }
 ]
}